{
 "cells": [
  {
   "cell_type": "code",
   "execution_count": 1,
   "id": "6a863b6f",
   "metadata": {},
   "outputs": [],
   "source": [
    "import pandas as pd\n",
    "import os\n",
    "import numpy as np\n",
    "\n",
    "import tensorflow as tf\n",
    "from tensorflow.keras.preprocessing.sequence import pad_sequences\n",
    "from tensorflow.keras.layers import Embedding, LSTM, Dense, Bidirectional\n",
    "from tensorflow.keras.preprocessing.text import Tokenizer\n",
    "from tensorflow.keras.models import Sequential\n",
    "from tensorflow.keras.optimizers import Adam"
   ]
  },
  {
   "cell_type": "code",
   "execution_count": 2,
   "id": "cd6bac18",
   "metadata": {},
   "outputs": [
    {
     "data": {
      "text/html": [
       "<div>\n",
       "<style scoped>\n",
       "    .dataframe tbody tr th:only-of-type {\n",
       "        vertical-align: middle;\n",
       "    }\n",
       "\n",
       "    .dataframe tbody tr th {\n",
       "        vertical-align: top;\n",
       "    }\n",
       "\n",
       "    .dataframe thead th {\n",
       "        text-align: right;\n",
       "    }\n",
       "</style>\n",
       "<table border=\"1\" class=\"dataframe\">\n",
       "  <thead>\n",
       "    <tr style=\"text-align: right;\">\n",
       "      <th></th>\n",
       "      <th>id</th>\n",
       "      <th>url</th>\n",
       "      <th>title</th>\n",
       "      <th>subtitle</th>\n",
       "      <th>image</th>\n",
       "      <th>claps</th>\n",
       "      <th>responses</th>\n",
       "      <th>reading_time</th>\n",
       "      <th>publication</th>\n",
       "      <th>date</th>\n",
       "    </tr>\n",
       "  </thead>\n",
       "  <tbody>\n",
       "    <tr>\n",
       "      <th>0</th>\n",
       "      <td>1</td>\n",
       "      <td>https://towardsdatascience.com/a-beginners-gui...</td>\n",
       "      <td>A Beginner’s Guide to Word Embedding with Gens...</td>\n",
       "      <td>NaN</td>\n",
       "      <td>1.png</td>\n",
       "      <td>850</td>\n",
       "      <td>8</td>\n",
       "      <td>8</td>\n",
       "      <td>Towards Data Science</td>\n",
       "      <td>2019-05-30</td>\n",
       "    </tr>\n",
       "    <tr>\n",
       "      <th>1</th>\n",
       "      <td>2</td>\n",
       "      <td>https://towardsdatascience.com/hands-on-graph-...</td>\n",
       "      <td>Hands-on Graph Neural Networks with PyTorch &amp; ...</td>\n",
       "      <td>NaN</td>\n",
       "      <td>2.png</td>\n",
       "      <td>1100</td>\n",
       "      <td>11</td>\n",
       "      <td>9</td>\n",
       "      <td>Towards Data Science</td>\n",
       "      <td>2019-05-30</td>\n",
       "    </tr>\n",
       "    <tr>\n",
       "      <th>2</th>\n",
       "      <td>3</td>\n",
       "      <td>https://towardsdatascience.com/how-to-use-ggpl...</td>\n",
       "      <td>How to Use ggplot2 in Python</td>\n",
       "      <td>A Grammar of Graphics for Python</td>\n",
       "      <td>3.png</td>\n",
       "      <td>767</td>\n",
       "      <td>1</td>\n",
       "      <td>5</td>\n",
       "      <td>Towards Data Science</td>\n",
       "      <td>2019-05-30</td>\n",
       "    </tr>\n",
       "    <tr>\n",
       "      <th>3</th>\n",
       "      <td>4</td>\n",
       "      <td>https://towardsdatascience.com/databricks-how-...</td>\n",
       "      <td>Databricks: How to Save Files in CSV on Your L...</td>\n",
       "      <td>When I work on Python projects dealing…</td>\n",
       "      <td>4.jpeg</td>\n",
       "      <td>354</td>\n",
       "      <td>0</td>\n",
       "      <td>4</td>\n",
       "      <td>Towards Data Science</td>\n",
       "      <td>2019-05-30</td>\n",
       "    </tr>\n",
       "    <tr>\n",
       "      <th>4</th>\n",
       "      <td>5</td>\n",
       "      <td>https://towardsdatascience.com/a-step-by-step-...</td>\n",
       "      <td>A Step-by-Step Implementation of Gradient Desc...</td>\n",
       "      <td>One example of building neural…</td>\n",
       "      <td>5.jpeg</td>\n",
       "      <td>211</td>\n",
       "      <td>3</td>\n",
       "      <td>4</td>\n",
       "      <td>Towards Data Science</td>\n",
       "      <td>2019-05-30</td>\n",
       "    </tr>\n",
       "  </tbody>\n",
       "</table>\n",
       "</div>"
      ],
      "text/plain": [
       "   id                                                url  \\\n",
       "0   1  https://towardsdatascience.com/a-beginners-gui...   \n",
       "1   2  https://towardsdatascience.com/hands-on-graph-...   \n",
       "2   3  https://towardsdatascience.com/how-to-use-ggpl...   \n",
       "3   4  https://towardsdatascience.com/databricks-how-...   \n",
       "4   5  https://towardsdatascience.com/a-step-by-step-...   \n",
       "\n",
       "                                               title  \\\n",
       "0  A Beginner’s Guide to Word Embedding with Gens...   \n",
       "1  Hands-on Graph Neural Networks with PyTorch & ...   \n",
       "2                       How to Use ggplot2 in Python   \n",
       "3  Databricks: How to Save Files in CSV on Your L...   \n",
       "4  A Step-by-Step Implementation of Gradient Desc...   \n",
       "\n",
       "                                  subtitle   image  claps responses  \\\n",
       "0                                      NaN   1.png    850         8   \n",
       "1                                      NaN   2.png   1100        11   \n",
       "2         A Grammar of Graphics for Python   3.png    767         1   \n",
       "3  When I work on Python projects dealing…  4.jpeg    354         0   \n",
       "4          One example of building neural…  5.jpeg    211         3   \n",
       "\n",
       "   reading_time           publication        date  \n",
       "0             8  Towards Data Science  2019-05-30  \n",
       "1             9  Towards Data Science  2019-05-30  \n",
       "2             5  Towards Data Science  2019-05-30  \n",
       "3             4  Towards Data Science  2019-05-30  \n",
       "4             4  Towards Data Science  2019-05-30  "
      ]
     },
     "execution_count": 2,
     "metadata": {},
     "output_type": "execute_result"
    }
   ],
   "source": [
    "medium_data = pd.read_csv(r'C:\\Users\\dell\\Documents\\medium_data.csv')\n",
    "medium_data.head()"
   ]
  },
  {
   "cell_type": "code",
   "execution_count": 3,
   "id": "bd231436",
   "metadata": {},
   "outputs": [
    {
     "name": "stdout",
     "output_type": "stream",
     "text": [
      "Number of records:  6508\n",
      "Number of fields:  10\n"
     ]
    }
   ],
   "source": [
    "print(\"Number of records: \", medium_data.shape[0])\n",
    "print(\"Number of fields: \", medium_data.shape[1])"
   ]
  },
  {
   "cell_type": "code",
   "execution_count": 4,
   "id": "34fbec15",
   "metadata": {},
   "outputs": [
    {
     "data": {
      "text/plain": [
       "0       A Beginner’s Guide to Word Embedding with Gens...\n",
       "1       Hands-on Graph Neural Networks with PyTorch & ...\n",
       "2                            How to Use ggplot2 in Python\n",
       "3       Databricks: How to Save Files in CSV on Your L...\n",
       "4       A Step-by-Step Implementation of Gradient Desc...\n",
       "                              ...                        \n",
       "6503    “We” vs “I” — How Should You Talk About Yourse...\n",
       "6504                     How Donald Trump Markets Himself\n",
       "6505        Content and Marketing Beyond Mass Consumption\n",
       "6506    5 Questions All Copywriters Should Ask Clients...\n",
       "6507               How To Write a Good Business Blog Post\n",
       "Name: title, Length: 6508, dtype: object"
      ]
     },
     "execution_count": 4,
     "metadata": {},
     "output_type": "execute_result"
    }
   ],
   "source": [
    "medium_data['title']"
   ]
  },
  {
   "cell_type": "code",
   "execution_count": 5,
   "id": "69d5f7b8",
   "metadata": {},
   "outputs": [],
   "source": [
    "medium_data['title'] = medium_data['title'].apply(lambda x: x.replace(u'\\xa0',u' '))\n",
    "medium_data['title'] = medium_data['title'].apply(lambda x: x.replace('\\u200a',' '))"
   ]
  },
  {
   "cell_type": "code",
   "execution_count": 6,
   "id": "11849ce1",
   "metadata": {},
   "outputs": [
    {
     "name": "stdout",
     "output_type": "stream",
     "text": [
      "Total number of words:  8238\n",
      "Word: ID\n",
      "------------\n",
      "<oov>:  1\n",
      "Strong:  4\n",
      "And:  8\n",
      "Consumption:  8237\n"
     ]
    }
   ],
   "source": [
    "tokenizer = Tokenizer(oov_token='<oov>') # For those words which are not found in word_index\n",
    "tokenizer.fit_on_texts(medium_data['title'])\n",
    "total_words = len(tokenizer.word_index) + 1\n",
    "\n",
    "print(\"Total number of words: \", total_words)\n",
    "print(\"Word: ID\")\n",
    "print(\"------------\")\n",
    "print(\"<oov>: \", tokenizer.word_index['<oov>'])\n",
    "print(\"Strong: \", tokenizer.word_index['strong'])\n",
    "print(\"And: \", tokenizer.word_index['and'])\n",
    "print(\"Consumption: \", tokenizer.word_index['consumption'])"
   ]
  },
  {
   "cell_type": "code",
   "execution_count": 7,
   "id": "a679073e",
   "metadata": {},
   "outputs": [
    {
     "name": "stdout",
     "output_type": "stream",
     "text": [
      "Total input sequences:  48461\n"
     ]
    }
   ],
   "source": [
    "input_sequences = []\n",
    "for line in medium_data['title']:\n",
    "    token_list = tokenizer.texts_to_sequences([line])[0]\n",
    "    #print(token_list)\n",
    "    \n",
    "    for i in range(1, len(token_list)):\n",
    "        n_gram_sequence = token_list[:i+1]\n",
    "        input_sequences.append(n_gram_sequence)\n",
    "\n",
    "# print(input_sequences)\n",
    "print(\"Total input sequences: \", len(input_sequences))"
   ]
  },
  {
   "cell_type": "code",
   "execution_count": 8,
   "id": "059d1fc9",
   "metadata": {},
   "outputs": [
    {
     "data": {
      "text/plain": [
       "array([  0,   0,   0,   0,   0,   0,   0,   0,   0,   0,   0,   0,   0,\n",
       "         0,   0,   0,   0,   0,   0,   0,   0,   0,   0,   0,   0,   0,\n",
       "         0,   0,   0,   0,   0,   0,   0,   0,   0,   0,   0,   5, 676,\n",
       "        68])"
      ]
     },
     "execution_count": 8,
     "metadata": {},
     "output_type": "execute_result"
    }
   ],
   "source": [
    "max_sequence_len = max([len(x) for x in input_sequences])\n",
    "input_sequences = np.array(pad_sequences(input_sequences, maxlen=max_sequence_len, padding='pre'))\n",
    "input_sequences[1]"
   ]
  },
  {
   "cell_type": "code",
   "execution_count": 9,
   "id": "5f70b9ea",
   "metadata": {},
   "outputs": [],
   "source": [
    "# create features and label\n",
    "xs, labels = input_sequences[:,:-1],input_sequences[:,-1]\n",
    "ys = tf.keras.utils.to_categorical(labels, num_classes=total_words)"
   ]
  },
  {
   "cell_type": "code",
   "execution_count": 10,
   "id": "1882225c",
   "metadata": {},
   "outputs": [
    {
     "name": "stdout",
     "output_type": "stream",
     "text": [
      "[   0    0    0    0    0    0    0    0    0    0    0    0    0    0\n",
      "    0    0    0    0    0    0    0    0    0    0    0    0    0    0\n",
      "    0    0    0    0    0    5  676   68    2  452 1518]\n",
      "14\n",
      "1.0\n"
     ]
    }
   ],
   "source": [
    "print(xs[5])\n",
    "print(labels[5])\n",
    "print(ys[5][14])"
   ]
  },
  {
   "cell_type": "code",
   "execution_count": 11,
   "id": "51fb7a4b",
   "metadata": {},
   "outputs": [
    {
     "name": "stderr",
     "output_type": "stream",
     "text": [
      "WARNING:absl:`lr` is deprecated in Keras optimizer, please use `learning_rate` or use the legacy optimizer, e.g.,tf.keras.optimizers.legacy.Adam.\n"
     ]
    },
    {
     "name": "stdout",
     "output_type": "stream",
     "text": [
      "Epoch 1/50\n",
      "1515/1515 [==============================] - 297s 191ms/step - loss: 6.9949 - accuracy: 0.0829\n",
      "Epoch 2/50\n",
      "1515/1515 [==============================] - 292s 193ms/step - loss: 6.1570 - accuracy: 0.1407\n",
      "Epoch 3/50\n",
      "1515/1515 [==============================] - 292s 193ms/step - loss: 5.6493 - accuracy: 0.1670\n",
      "Epoch 4/50\n",
      "1515/1515 [==============================] - 291s 192ms/step - loss: 5.1940 - accuracy: 0.1902\n",
      "Epoch 5/50\n",
      "1515/1515 [==============================] - 304s 201ms/step - loss: 4.7606 - accuracy: 0.2129\n",
      "Epoch 6/50\n",
      "1515/1515 [==============================] - 303s 200ms/step - loss: 4.3436 - accuracy: 0.2426\n",
      "Epoch 7/50\n",
      "1515/1515 [==============================] - 325s 214ms/step - loss: 3.9466 - accuracy: 0.2818\n",
      "Epoch 8/50\n",
      "1515/1515 [==============================] - 305s 202ms/step - loss: 3.5721 - accuracy: 0.3310\n",
      "Epoch 9/50\n",
      "1515/1515 [==============================] - 290s 192ms/step - loss: 3.2205 - accuracy: 0.3862\n",
      "Epoch 10/50\n",
      "1515/1515 [==============================] - 281s 185ms/step - loss: 2.8991 - accuracy: 0.4410\n",
      "Epoch 11/50\n",
      "1515/1515 [==============================] - 288s 190ms/step - loss: 2.6122 - accuracy: 0.4896\n",
      "Epoch 12/50\n",
      "1515/1515 [==============================] - 287s 189ms/step - loss: 2.3585 - accuracy: 0.5369\n",
      "Epoch 13/50\n",
      "1515/1515 [==============================] - 280s 185ms/step - loss: 2.1345 - accuracy: 0.5772\n",
      "Epoch 14/50\n",
      "1515/1515 [==============================] - 278s 184ms/step - loss: 1.9350 - accuracy: 0.6170\n",
      "Epoch 15/50\n",
      "1515/1515 [==============================] - 277s 183ms/step - loss: 1.7573 - accuracy: 0.6503\n",
      "Epoch 16/50\n",
      "1515/1515 [==============================] - 276s 182ms/step - loss: 1.6012 - accuracy: 0.6805\n",
      "Epoch 17/50\n",
      "1515/1515 [==============================] - 282s 186ms/step - loss: 1.4619 - accuracy: 0.7078\n",
      "Epoch 18/50\n",
      "1515/1515 [==============================] - 281s 185ms/step - loss: 1.3410 - accuracy: 0.7318\n",
      "Epoch 19/50\n",
      "1515/1515 [==============================] - 292s 193ms/step - loss: 1.2375 - accuracy: 0.7513\n",
      "Epoch 20/50\n",
      "1515/1515 [==============================] - 237s 156ms/step - loss: 1.1437 - accuracy: 0.7697\n",
      "Epoch 21/50\n",
      "1515/1515 [==============================] - 222s 147ms/step - loss: 1.0621 - accuracy: 0.7845\n",
      "Epoch 22/50\n",
      "1515/1515 [==============================] - 221s 146ms/step - loss: 0.9931 - accuracy: 0.7980\n",
      "Epoch 23/50\n",
      "1515/1515 [==============================] - 211s 140ms/step - loss: 0.9330 - accuracy: 0.8097\n",
      "Epoch 24/50\n",
      "1515/1515 [==============================] - 202s 133ms/step - loss: 0.8811 - accuracy: 0.8179\n",
      "Epoch 25/50\n",
      "1515/1515 [==============================] - 203s 134ms/step - loss: 0.8354 - accuracy: 0.8264\n",
      "Epoch 26/50\n",
      "1515/1515 [==============================] - 202s 133ms/step - loss: 0.7971 - accuracy: 0.8315\n",
      "Epoch 27/50\n",
      "1515/1515 [==============================] - 202s 134ms/step - loss: 0.7648 - accuracy: 0.8387\n",
      "Epoch 28/50\n",
      "1515/1515 [==============================] - 199s 131ms/step - loss: 0.7378 - accuracy: 0.8406\n",
      "Epoch 29/50\n",
      "1515/1515 [==============================] - 199s 131ms/step - loss: 0.7135 - accuracy: 0.8438\n",
      "Epoch 30/50\n",
      "1515/1515 [==============================] - 199s 131ms/step - loss: 0.6941 - accuracy: 0.8465\n",
      "Epoch 31/50\n",
      "1515/1515 [==============================] - 198s 131ms/step - loss: 0.6759 - accuracy: 0.8500\n",
      "Epoch 32/50\n",
      "1515/1515 [==============================] - 198s 131ms/step - loss: 0.6614 - accuracy: 0.8501\n",
      "Epoch 33/50\n",
      "1515/1515 [==============================] - 199s 131ms/step - loss: 0.6484 - accuracy: 0.8508\n",
      "Epoch 34/50\n",
      "1515/1515 [==============================] - 199s 131ms/step - loss: 0.6381 - accuracy: 0.8521\n",
      "Epoch 35/50\n",
      "1515/1515 [==============================] - 198s 131ms/step - loss: 0.6283 - accuracy: 0.8534\n",
      "Epoch 36/50\n",
      "1515/1515 [==============================] - 198s 130ms/step - loss: 0.6210 - accuracy: 0.8529\n",
      "Epoch 37/50\n",
      "1515/1515 [==============================] - 198s 131ms/step - loss: 0.6134 - accuracy: 0.8535\n",
      "Epoch 38/50\n",
      "1515/1515 [==============================] - 200s 132ms/step - loss: 0.6084 - accuracy: 0.8540\n",
      "Epoch 39/50\n",
      "1515/1515 [==============================] - 199s 131ms/step - loss: 0.6005 - accuracy: 0.8545\n",
      "Epoch 40/50\n",
      "1515/1515 [==============================] - 201s 132ms/step - loss: 0.5973 - accuracy: 0.8547\n",
      "Epoch 41/50\n",
      "1515/1515 [==============================] - 198s 131ms/step - loss: 0.5931 - accuracy: 0.8545\n",
      "Epoch 42/50\n",
      "1515/1515 [==============================] - 198s 130ms/step - loss: 0.5877 - accuracy: 0.8550\n",
      "Epoch 43/50\n",
      "1515/1515 [==============================] - 198s 131ms/step - loss: 0.5844 - accuracy: 0.8555\n",
      "Epoch 44/50\n",
      "1515/1515 [==============================] - 199s 132ms/step - loss: 0.5822 - accuracy: 0.8547\n",
      "Epoch 45/50\n",
      "1515/1515 [==============================] - 201s 132ms/step - loss: 0.5807 - accuracy: 0.8546\n",
      "Epoch 46/50\n",
      "1515/1515 [==============================] - 199s 131ms/step - loss: 0.5763 - accuracy: 0.8553\n",
      "Epoch 47/50\n",
      "1515/1515 [==============================] - 199s 131ms/step - loss: 0.5737 - accuracy: 0.8544\n",
      "Epoch 48/50\n",
      "1515/1515 [==============================] - 255s 168ms/step - loss: 0.5718 - accuracy: 0.8563\n",
      "Epoch 49/50\n",
      "1515/1515 [==============================] - 278s 184ms/step - loss: 0.5713 - accuracy: 0.8562\n",
      "Epoch 50/50\n",
      "1515/1515 [==============================] - 276s 182ms/step - loss: 0.5686 - accuracy: 0.8560\n",
      "<keras.src.engine.sequential.Sequential object at 0x000002739EA20790>\n"
     ]
    }
   ],
   "source": [
    "model = Sequential()\n",
    "model.add(Embedding(total_words, 100, input_length=max_sequence_len-1))\n",
    "model.add(Bidirectional(LSTM(150)))\n",
    "model.add(Dense(total_words, activation='softmax'))\n",
    "adam = Adam(lr=0.01)\n",
    "model.compile(loss='categorical_crossentropy', optimizer=adam, metrics=['accuracy'])\n",
    "history = model.fit(xs, ys, epochs=50, verbose=1)\n",
    "#print model.summary()\n",
    "print(model)"
   ]
  },
  {
   "cell_type": "code",
   "execution_count": 12,
   "id": "401c454c",
   "metadata": {},
   "outputs": [],
   "source": [
    "import matplotlib.pyplot as plt\n",
    "\n",
    "\n",
    "def plot_graphs(history, string):\n",
    "    plt.plot(history.history[string])\n",
    "    plt.xlabel(\"Epochs\")\n",
    "    plt.ylabel(string)\n",
    "    plt.show()"
   ]
  },
  {
   "cell_type": "code",
   "execution_count": 13,
   "id": "f8ee86f7",
   "metadata": {},
   "outputs": [
    {
     "data": {
      "image/png": "[encoded data removed]",
      "text/plain": [
       "<Figure size 640x480 with 1 Axes>"
      ]
     },
     "metadata": {},
     "output_type": "display_data"
    }
   ],
   "source": [
    "plot_graphs(history, 'accuracy')"
   ]
  },
  {
   "cell_type": "code",
   "execution_count": 14,
   "id": "1024aeb4",
   "metadata": {},
   "outputs": [
    {
     "data": {
      "image/png": "[encoded data removed]",
      "text/plain": [
       "<Figure size 640x480 with 1 Axes>"
      ]
     },
     "metadata": {},
     "output_type": "display_data"
    }
   ],
   "source": [
    "plot_graphs(history, 'loss')"
   ]
  },
  {
   "cell_type": "code",
   "execution_count": 23,
   "id": "6f9cc388",
   "metadata": {},
   "outputs": [
    {
     "name": "stdout",
     "output_type": "stream",
     "text": [
      "1/1 [==============================] - 0s 51ms/step\n",
      "implementation of rnn\n"
     ]
    }
   ],
   "source": [
    "import numpy as np\n",
    "\n",
    "def predict_next_word(model, seed_text, tokenizer):\n",
    "    \n",
    "    \n",
    "    token_list = tokenizer.texts_to_sequences([seed_text])[0]\n",
    "    token_list = pad_sequences([token_list], maxlen=max_sequence_len-1, padding='pre')\n",
    "    predicted_probabilities = model.predict(token_list)\n",
    "    predicted_class = np.argmax(predicted_probabilities)\n",
    "    predicted_word = tokenizer.index_word[predicted_class]\n",
    "    return predicted_word\n",
    "\n",
    "def generate_text(model, seed_text, tokenizer, next_words):\n",
    "    \n",
    "    for _ in range(next_words):\n",
    "        seed_text += \" \" + predict_next_word(model, seed_text, tokenizer)\n",
    "        return seed_text\n",
    "\n",
    "seed_text = \"implementation of\"\n",
    "next_words = 2\n",
    "\n",
    "generated_text = generate_text(model, seed_text, tokenizer, next_words)\n",
    "print(generated_text)\n"
   ]
  },
  {
   "cell_type": "code",
   "execution_count": null,
   "id": "262f5e12",
   "metadata": {},
   "outputs": [],
   "source": []
  }
 ],
 "metadata": {
  "kernelspec": {
   "display_name": "Python 3 (ipykernel)",
   "language": "python",
   "name": "python3"
  },
  "language_info": {
   "codemirror_mode": {
    "name": "ipython",
    "version": 3
   },
   "file_extension": ".py",
   "mimetype": "text/x-python",
   "name": "python",
   "nbconvert_exporter": "python",
   "pygments_lexer": "ipython3",
   "version": "3.11.3"
  }
 },
 "nbformat": 4,
 "nbformat_minor": 5
}
